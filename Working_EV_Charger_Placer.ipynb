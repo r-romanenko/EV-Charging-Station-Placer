{
 "cells": [
  {
   "cell_type": "code",
   "execution_count": 11,
   "metadata": {},
   "outputs": [
    {
     "name": "stdout",
     "output_type": "stream",
     "text": [
      "Requirement already satisfied: googlemaps in c:\\python312\\lib\\site-packages (4.10.0)\n",
      "Requirement already satisfied: scipy in c:\\python312\\lib\\site-packages (1.13.1)\n",
      "Requirement already satisfied: requests<3.0,>=2.20.0 in c:\\users\\lolyc_xmi459q\\appdata\\roaming\\python\\python312\\site-packages (from googlemaps) (2.31.0)\n",
      "Requirement already satisfied: numpy<2.3,>=1.22.4 in c:\\python312\\lib\\site-packages (from scipy) (1.26.4)\n",
      "Requirement already satisfied: charset-normalizer<4,>=2 in c:\\users\\lolyc_xmi459q\\appdata\\roaming\\python\\python312\\site-packages (from requests<3.0,>=2.20.0->googlemaps) (3.3.2)\n",
      "Requirement already satisfied: idna<4,>=2.5 in c:\\users\\lolyc_xmi459q\\appdata\\roaming\\python\\python312\\site-packages (from requests<3.0,>=2.20.0->googlemaps) (3.7)\n",
      "Requirement already satisfied: urllib3<3,>=1.21.1 in c:\\users\\lolyc_xmi459q\\appdata\\roaming\\python\\python312\\site-packages (from requests<3.0,>=2.20.0->googlemaps) (2.2.1)\n",
      "Requirement already satisfied: certifi>=2017.4.17 in c:\\users\\lolyc_xmi459q\\appdata\\roaming\\python\\python312\\site-packages (from requests<3.0,>=2.20.0->googlemaps) (2024.2.2)\n"
     ]
    }
   ],
   "source": [
    "!pip install googlemaps scipy\n",
    "\n",
    "import requests\n",
    "import numpy as np\n",
    "from scipy.spatial import distance\n",
    "import googlemaps"
   ]
  },
  {
   "cell_type": "code",
   "execution_count": 12,
   "metadata": {},
   "outputs": [],
   "source": [
    "# Define the state for analysis\n",
    "area = \"WA\""
   ]
  },
  {
   "cell_type": "code",
   "execution_count": 13,
   "metadata": {},
   "outputs": [],
   "source": [
    "# Step 1: Retrieve Coordinates of Existing EV Chargers\n",
    "def get_ev_chargers(area):\n",
    "    url = \"https://developer.nrel.gov/api/alt-fuel-stations/v1.json\"\n",
    "    params = {\n",
    "        \"api_key\": \"APIKEY\",\n",
    "        \"fuel_type\": \"ELEC\",\n",
    "        \"state\": area,\n",
    "        \"limit\": 200\n",
    "    }\n",
    "    response = requests.get(url, params=params)\n",
    "    data = response.json()\n",
    "    # print(\"Response JSON:\", data)  # Print the data to check the structure\n",
    "    if 'fuel_stations' in data:\n",
    "        chargers = [(station['latitude'], station['longitude']) for station in data['fuel_stations']]\n",
    "        return chargers\n",
    "    else:\n",
    "        print(\"Key 'fuel_stations' not found in the response\")\n",
    "        return []\n",
    "\n",
    "chargers = get_ev_chargers(area)"
   ]
  },
  {
   "cell_type": "code",
   "execution_count": 14,
   "metadata": {},
   "outputs": [
    {
     "name": "stdout",
     "output_type": "stream",
     "text": [
      "Farthest Point (Geographical): (44.782882, -117.812306)\n"
     ]
    }
   ],
   "source": [
    "# Step 2: Calculate the Farthest Point Using Geographical Distance\n",
    "def find_farthest_point(chargers):\n",
    "    centroid = np.mean(chargers, axis=0)\n",
    "    distances = distance.cdist([centroid], chargers, 'euclidean')\n",
    "    farthest_point_index = np.argmax(distances)\n",
    "    return chargers[farthest_point_index]\n",
    "\n",
    "farthest_point_geo = None\n",
    "if chargers:\n",
    "    farthest_point_geo = find_farthest_point(chargers)\n",
    "    print(\"Farthest Point (Geographical):\", farthest_point_geo)\n",
    "else:\n",
    "    print(\"No chargers found.\")"
   ]
  },
  {
   "cell_type": "code",
   "execution_count": 15,
   "metadata": {},
   "outputs": [
    {
     "name": "stdout",
     "output_type": "stream",
     "text": [
      "Snapped Point (Nearest Road): (44.78290707213545, -117.81251370520773)\n"
     ]
    }
   ],
   "source": [
    "# Step 3: Snap the Farthest Point to the Nearest Road\n",
    "gmaps = googlemaps.Client(key='API-KEY')\n",
    "\n",
    "def snap_to_road(point):\n",
    "    try:\n",
    "        result = gmaps.snap_to_roads(path=[point], interpolate=False)\n",
    "        snapped_point = (result[0]['location']['latitude'], result[0]['location']['longitude'])\n",
    "        return snapped_point\n",
    "    except Exception as e:\n",
    "        print(f\"Error snapping point to road: {e}\")\n",
    "        return point\n",
    "\n",
    "if farthest_point_geo:\n",
    "    snapped_point_geo = snap_to_road(farthest_point_geo)\n",
    "    print(\"Snapped Point (Nearest Road):\", snapped_point_geo)\n",
    "else:\n",
    "    print(\"No geographical farthest point found.\")"
   ]
  }
 ],
 "metadata": {
  "kernelspec": {
   "display_name": "Python 3",
   "language": "python",
   "name": "python3"
  },
  "language_info": {
   "codemirror_mode": {
    "name": "ipython",
    "version": 3
   },
   "file_extension": ".py",
   "mimetype": "text/x-python",
   "name": "python",
   "nbconvert_exporter": "python",
   "pygments_lexer": "ipython3",
   "version": "3.12.2"
  }
 },
 "nbformat": 4,
 "nbformat_minor": 2
}
